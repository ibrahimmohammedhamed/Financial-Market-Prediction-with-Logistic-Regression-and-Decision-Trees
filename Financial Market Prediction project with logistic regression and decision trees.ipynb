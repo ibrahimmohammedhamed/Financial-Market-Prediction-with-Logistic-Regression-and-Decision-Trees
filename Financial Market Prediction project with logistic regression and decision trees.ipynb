{
 "cells": [
  {
   "cell_type": "code",
   "execution_count": 1,
   "id": "20915e32",
   "metadata": {},
   "outputs": [
    {
     "name": "stdout",
     "output_type": "stream",
     "text": [
      "Collecting yfinance\n",
      "  Obtaining dependency information for yfinance from https://files.pythonhosted.org/packages/14/03/3c854ca3e02eedf614abba4b2e177c469bf3af58207fa30d5098c5d652fe/yfinance-0.2.37-py2.py3-none-any.whl.metadata\n",
      "  Downloading yfinance-0.2.37-py2.py3-none-any.whl.metadata (11 kB)\n",
      "Requirement already satisfied: numpy in c:\\users\\admin\\anaconda3\\lib\\site-packages (1.24.3)\n",
      "Requirement already satisfied: pandas>=1.3.0 in c:\\users\\admin\\anaconda3\\lib\\site-packages (from yfinance) (1.5.3)\n",
      "Requirement already satisfied: requests>=2.31 in c:\\users\\admin\\anaconda3\\lib\\site-packages (from yfinance) (2.31.0)\n",
      "Collecting multitasking>=0.0.7 (from yfinance)\n",
      "  Obtaining dependency information for multitasking>=0.0.7 from https://files.pythonhosted.org/packages/3e/8a/bb3160e76e844db9e69a413f055818969c8acade64e1a9ac5ce9dfdcf6c1/multitasking-0.0.11-py3-none-any.whl.metadata\n",
      "  Downloading multitasking-0.0.11-py3-none-any.whl.metadata (5.5 kB)\n",
      "Requirement already satisfied: lxml>=4.9.1 in c:\\users\\admin\\anaconda3\\lib\\site-packages (from yfinance) (4.9.2)\n",
      "Requirement already satisfied: appdirs>=1.4.4 in c:\\users\\admin\\anaconda3\\lib\\site-packages (from yfinance) (1.4.4)\n",
      "Requirement already satisfied: pytz>=2022.5 in c:\\users\\admin\\anaconda3\\lib\\site-packages (from yfinance) (2022.7)\n",
      "Collecting frozendict>=2.3.4 (from yfinance)\n",
      "  Downloading frozendict-2.4.0.tar.gz (314 kB)\n",
      "     ---------------------------------------- 0.0/314.6 kB ? eta -:--:--\n",
      "     - -------------------------------------- 10.2/314.6 kB ? eta -:--:--\n",
      "     ------------- ------------------------ 112.6/314.6 kB 1.3 MB/s eta 0:00:01\n",
      "     --------------------- ---------------- 174.1/314.6 kB 1.3 MB/s eta 0:00:01\n",
      "     ---------------------------- --------- 235.5/314.6 kB 1.3 MB/s eta 0:00:01\n",
      "     -------------------------------------  307.2/314.6 kB 1.4 MB/s eta 0:00:01\n",
      "     -------------------------------------- 314.6/314.6 kB 1.2 MB/s eta 0:00:00\n",
      "  Installing build dependencies: started\n",
      "  Installing build dependencies: finished with status 'done'\n",
      "  Getting requirements to build wheel: started\n",
      "  Getting requirements to build wheel: finished with status 'done'\n",
      "  Preparing metadata (pyproject.toml): started\n",
      "  Preparing metadata (pyproject.toml): finished with status 'done'\n",
      "Collecting peewee>=3.16.2 (from yfinance)\n",
      "  Downloading peewee-3.17.1.tar.gz (3.0 MB)\n",
      "     ---------------------------------------- 0.0/3.0 MB ? eta -:--:--\n",
      "      --------------------------------------- 0.1/3.0 MB 1.7 MB/s eta 0:00:02\n",
      "     - -------------------------------------- 0.1/3.0 MB 1.4 MB/s eta 0:00:02\n",
      "     -- ------------------------------------- 0.2/3.0 MB 1.5 MB/s eta 0:00:02\n",
      "     --- ------------------------------------ 0.3/3.0 MB 1.4 MB/s eta 0:00:02\n",
      "     ---- ----------------------------------- 0.3/3.0 MB 1.5 MB/s eta 0:00:02\n",
      "     ----- ---------------------------------- 0.4/3.0 MB 1.5 MB/s eta 0:00:02\n",
      "     ------ --------------------------------- 0.5/3.0 MB 1.5 MB/s eta 0:00:02\n",
      "     ------- -------------------------------- 0.5/3.0 MB 1.5 MB/s eta 0:00:02\n",
      "     -------- ------------------------------- 0.6/3.0 MB 1.5 MB/s eta 0:00:02\n",
      "     --------- ------------------------------ 0.7/3.0 MB 1.6 MB/s eta 0:00:02\n",
      "     --------- ------------------------------ 0.7/3.0 MB 1.5 MB/s eta 0:00:02\n",
      "     ---------- ----------------------------- 0.8/3.0 MB 1.6 MB/s eta 0:00:02\n",
      "     ----------- ---------------------------- 0.9/3.0 MB 1.6 MB/s eta 0:00:02\n",
      "     ------------ --------------------------- 1.0/3.0 MB 1.5 MB/s eta 0:00:02\n",
      "     -------------- ------------------------- 1.0/3.0 MB 1.6 MB/s eta 0:00:02\n",
      "     -------------- ------------------------- 1.0/3.0 MB 1.6 MB/s eta 0:00:02\n",
      "     --------------- ------------------------ 1.1/3.0 MB 1.5 MB/s eta 0:00:02\n",
      "     ---------------- ----------------------- 1.2/3.0 MB 1.6 MB/s eta 0:00:02\n",
      "     ----------------- ---------------------- 1.3/3.0 MB 1.6 MB/s eta 0:00:02\n",
      "     ------------------ --------------------- 1.4/3.0 MB 1.6 MB/s eta 0:00:02\n",
      "     ------------------- -------------------- 1.4/3.0 MB 1.5 MB/s eta 0:00:01\n",
      "     ------------------- -------------------- 1.5/3.0 MB 1.5 MB/s eta 0:00:02\n",
      "     -------------------- ------------------- 1.5/3.0 MB 1.5 MB/s eta 0:00:01\n",
      "     ---------------------- ----------------- 1.6/3.0 MB 1.5 MB/s eta 0:00:01\n",
      "     ---------------------- ----------------- 1.7/3.0 MB 1.5 MB/s eta 0:00:01\n",
      "     ------------------------ --------------- 1.8/3.0 MB 1.5 MB/s eta 0:00:01\n",
      "     ------------------------ --------------- 1.8/3.0 MB 1.5 MB/s eta 0:00:01\n",
      "     ------------------------- -------------- 1.9/3.0 MB 1.5 MB/s eta 0:00:01\n",
      "     -------------------------- ------------- 1.9/3.0 MB 1.5 MB/s eta 0:00:01\n",
      "     -------------------------- ------------- 2.0/3.0 MB 1.5 MB/s eta 0:00:01\n",
      "     ---------------------------- ----------- 2.1/3.0 MB 1.5 MB/s eta 0:00:01\n",
      "     ---------------------------- ----------- 2.1/3.0 MB 1.5 MB/s eta 0:00:01\n",
      "     ----------------------------- ---------- 2.2/3.0 MB 1.4 MB/s eta 0:00:01\n",
      "     ------------------------------ --------- 2.2/3.0 MB 1.4 MB/s eta 0:00:01\n",
      "     ------------------------------- -------- 2.3/3.0 MB 1.5 MB/s eta 0:00:01\n",
      "     -------------------------------- ------- 2.4/3.0 MB 1.5 MB/s eta 0:00:01\n",
      "     ---------------------------------- ----- 2.5/3.0 MB 1.5 MB/s eta 0:00:01\n",
      "     ----------------------------------- ---- 2.6/3.0 MB 1.5 MB/s eta 0:00:01\n",
      "     ------------------------------------- -- 2.7/3.0 MB 1.5 MB/s eta 0:00:01\n",
      "     -------------------------------------- - 2.9/3.0 MB 1.6 MB/s eta 0:00:01\n",
      "     ---------------------------------------  2.9/3.0 MB 1.6 MB/s eta 0:00:01\n",
      "     ---------------------------------------- 3.0/3.0 MB 1.5 MB/s eta 0:00:00\n",
      "  Installing build dependencies: started\n",
      "  Installing build dependencies: finished with status 'done'\n",
      "  Getting requirements to build wheel: started\n",
      "  Getting requirements to build wheel: finished with status 'done'\n",
      "  Preparing metadata (pyproject.toml): started\n",
      "  Preparing metadata (pyproject.toml): finished with status 'done'\n",
      "Requirement already satisfied: beautifulsoup4>=4.11.1 in c:\\users\\admin\\anaconda3\\lib\\site-packages (from yfinance) (4.12.2)\n",
      "Collecting html5lib>=1.1 (from yfinance)\n",
      "  Obtaining dependency information for html5lib>=1.1 from https://files.pythonhosted.org/packages/6c/dd/a834df6482147d48e225a49515aabc28974ad5a4ca3215c18a882565b028/html5lib-1.1-py2.py3-none-any.whl.metadata\n",
      "  Downloading html5lib-1.1-py2.py3-none-any.whl.metadata (16 kB)\n",
      "Requirement already satisfied: soupsieve>1.2 in c:\\users\\admin\\anaconda3\\lib\\site-packages (from beautifulsoup4>=4.11.1->yfinance) (2.4)\n",
      "Requirement already satisfied: six>=1.9 in c:\\users\\admin\\anaconda3\\lib\\site-packages (from html5lib>=1.1->yfinance) (1.16.0)\n",
      "Requirement already satisfied: webencodings in c:\\users\\admin\\anaconda3\\lib\\site-packages (from html5lib>=1.1->yfinance) (0.5.1)\n",
      "Requirement already satisfied: python-dateutil>=2.8.1 in c:\\users\\admin\\anaconda3\\lib\\site-packages (from pandas>=1.3.0->yfinance) (2.8.2)\n",
      "Requirement already satisfied: charset-normalizer<4,>=2 in c:\\users\\admin\\anaconda3\\lib\\site-packages (from requests>=2.31->yfinance) (2.0.4)\n",
      "Requirement already satisfied: idna<4,>=2.5 in c:\\users\\admin\\anaconda3\\lib\\site-packages (from requests>=2.31->yfinance) (3.4)\n",
      "Requirement already satisfied: urllib3<3,>=1.21.1 in c:\\users\\admin\\anaconda3\\lib\\site-packages (from requests>=2.31->yfinance) (1.26.16)\n",
      "Requirement already satisfied: certifi>=2017.4.17 in c:\\users\\admin\\anaconda3\\lib\\site-packages (from requests>=2.31->yfinance) (2023.7.22)\n",
      "Downloading yfinance-0.2.37-py2.py3-none-any.whl (72 kB)\n",
      "   ---------------------------------------- 0.0/73.0 kB ? eta -:--:--\n",
      "   ---------------------------------------- 73.0/73.0 kB 4.2 MB/s eta 0:00:00\n",
      "Downloading html5lib-1.1-py2.py3-none-any.whl (112 kB)\n",
      "   ---------------------------------------- 0.0/112.2 kB ? eta -:--:--\n",
      "   ------------------------------------ --- 102.4/112.2 kB 3.0 MB/s eta 0:00:01\n",
      "   ---------------------------------------- 112.2/112.2 kB 2.2 MB/s eta 0:00:00\n",
      "Downloading multitasking-0.0.11-py3-none-any.whl (8.5 kB)\n",
      "Building wheels for collected packages: frozendict, peewee\n",
      "  Building wheel for frozendict (pyproject.toml): started\n",
      "  Building wheel for frozendict (pyproject.toml): finished with status 'done'\n",
      "  Created wheel for frozendict: filename=frozendict-2.4.0-py3-none-any.whl size=15471 sha256=1388cbf789d3551e9e087de9a6936b467cb2a89f9bbcfa0b948d045af45cb8b9\n",
      "  Stored in directory: c:\\users\\admin\\appdata\\local\\pip\\cache\\wheels\\31\\dd\\81\\a814e6f8cde8a1bbc1f088fdc273943371f10478b91a605e14\n",
      "  Building wheel for peewee (pyproject.toml): started\n",
      "  Building wheel for peewee (pyproject.toml): finished with status 'done'\n",
      "  Created wheel for peewee: filename=peewee-3.17.1-py3-none-any.whl size=136948 sha256=731ef79a8b3fb2a48bcb06f62fa18bd2b26e10a460730f3ebd4023cda4a21e3c\n",
      "  Stored in directory: c:\\users\\admin\\appdata\\local\\pip\\cache\\wheels\\33\\d2\\ca\\79b9807826bc7ef0b86a1ee28c372daaf073f9aa8756eedd7f\n",
      "Successfully built frozendict peewee\n",
      "Installing collected packages: peewee, multitasking, html5lib, frozendict, yfinance\n",
      "Successfully installed frozendict-2.4.0 html5lib-1.1 multitasking-0.0.11 peewee-3.17.1 yfinance-0.2.37\n",
      "Note: you may need to restart the kernel to use updated packages.\n"
     ]
    }
   ],
   "source": [
    "pip install yfinance numpy\n"
   ]
  },
  {
   "cell_type": "code",
   "execution_count": 2,
   "id": "7ae0a642",
   "metadata": {},
   "outputs": [
    {
     "name": "stderr",
     "output_type": "stream",
     "text": [
      "[*********************100%%**********************]  1 of 1 completed\n"
     ]
    }
   ],
   "source": [
    "import yfinance as yf\n",
    "\n",
    "spy_data = yf.download(\"SPY\", start=\"2015-01-01\", end=\"2021-12-31\")\n"
   ]
  },
  {
   "cell_type": "code",
   "execution_count": 3,
   "id": "3e5c1a77",
   "metadata": {},
   "outputs": [],
   "source": [
    "import numpy as np\n",
    "\n",
    "target_variable = np.where(spy_data['Close'].shift(-1) > spy_data['Close'], 1, -1)\n"
   ]
  },
  {
   "cell_type": "code",
   "execution_count": 4,
   "id": "28865c57",
   "metadata": {},
   "outputs": [
    {
     "data": {
      "text/plain": [
       "Open         0\n",
       "High         0\n",
       "Low          0\n",
       "Close        0\n",
       "Adj Close    0\n",
       "Volume       0\n",
       "dtype: int64"
      ]
     },
     "execution_count": 4,
     "metadata": {},
     "output_type": "execute_result"
    }
   ],
   "source": [
    "spy_data.isnull().sum() #checking for null values\n"
   ]
  },
  {
   "cell_type": "code",
   "execution_count": 5,
   "id": "03e146c4",
   "metadata": {},
   "outputs": [],
   "source": [
    "spy_data.dropna(inplace=True) #dropping the columns if there is a null value, even though the prev output told us theres no null value\n"
   ]
  },
  {
   "cell_type": "code",
   "execution_count": 6,
   "id": "c0840c47",
   "metadata": {},
   "outputs": [
    {
     "data": {
      "text/plain": [
       "Open         0\n",
       "High         0\n",
       "Low          0\n",
       "Close        0\n",
       "Adj Close    0\n",
       "Volume       0\n",
       "dtype: int64"
      ]
     },
     "execution_count": 6,
     "metadata": {},
     "output_type": "execute_result"
    }
   ],
   "source": [
    "spy_data.isnull().sum()\n"
   ]
  },
  {
   "cell_type": "code",
   "execution_count": 7,
   "id": "3b2d686f",
   "metadata": {},
   "outputs": [],
   "source": [
    "duplicate_rows = spy_data.duplicated() #checking for duplicate rows\n"
   ]
  },
  {
   "cell_type": "code",
   "execution_count": 9,
   "id": "cbf007e1",
   "metadata": {},
   "outputs": [],
   "source": [
    "spy_data = spy_data[~duplicate_rows]\n"
   ]
  },
  {
   "cell_type": "code",
   "execution_count": 10,
   "id": "57245f31",
   "metadata": {},
   "outputs": [],
   "source": [
    "from sklearn.preprocessing import MinMaxScaler\n",
    "\n",
    "scaler = MinMaxScaler()\n",
    "spy_data_scaled = scaler.fit_transform(spy_data)\n"
   ]
  },
  {
   "cell_type": "code",
   "execution_count": 11,
   "id": "fb71dc13",
   "metadata": {},
   "outputs": [],
   "source": [
    "#defining X features\n",
    "X = spy_data[['Open', 'Close', 'High', 'Low', 'Volume']]\n",
    "\n",
    "#defining y target variable\n",
    "y = target_variable \n",
    "\n",
    "assert len(X) == len(y), \"Number of samples in X and y must be equal\"\n"
   ]
  },
  {
   "cell_type": "code",
   "execution_count": 12,
   "id": "c9522541",
   "metadata": {},
   "outputs": [
    {
     "name": "stdout",
     "output_type": "stream",
     "text": [
      "Training set shape: (1409, 5) (1409,)\n",
      "Test set shape: (353, 5) (353,)\n"
     ]
    }
   ],
   "source": [
    "from sklearn.model_selection import train_test_split\n",
    "\n",
    "#Spliting the data into training and test sets\n",
    "X_train, X_test, y_train, y_test = train_test_split(X, y, test_size=0.2, random_state=42)\n",
    "\n",
    "#checking the shapes of the resulting datasets\n",
    "print(\"Training set shape:\", X_train.shape, y_train.shape)\n",
    "print(\"Test set shape:\", X_test.shape, y_test.shape)\n"
   ]
  },
  {
   "cell_type": "code",
   "execution_count": 13,
   "id": "c5cc56d0",
   "metadata": {},
   "outputs": [
    {
     "data": {
      "text/html": [
       "<style>#sk-container-id-1 {color: black;}#sk-container-id-1 pre{padding: 0;}#sk-container-id-1 div.sk-toggleable {background-color: white;}#sk-container-id-1 label.sk-toggleable__label {cursor: pointer;display: block;width: 100%;margin-bottom: 0;padding: 0.3em;box-sizing: border-box;text-align: center;}#sk-container-id-1 label.sk-toggleable__label-arrow:before {content: \"▸\";float: left;margin-right: 0.25em;color: #696969;}#sk-container-id-1 label.sk-toggleable__label-arrow:hover:before {color: black;}#sk-container-id-1 div.sk-estimator:hover label.sk-toggleable__label-arrow:before {color: black;}#sk-container-id-1 div.sk-toggleable__content {max-height: 0;max-width: 0;overflow: hidden;text-align: left;background-color: #f0f8ff;}#sk-container-id-1 div.sk-toggleable__content pre {margin: 0.2em;color: black;border-radius: 0.25em;background-color: #f0f8ff;}#sk-container-id-1 input.sk-toggleable__control:checked~div.sk-toggleable__content {max-height: 200px;max-width: 100%;overflow: auto;}#sk-container-id-1 input.sk-toggleable__control:checked~label.sk-toggleable__label-arrow:before {content: \"▾\";}#sk-container-id-1 div.sk-estimator input.sk-toggleable__control:checked~label.sk-toggleable__label {background-color: #d4ebff;}#sk-container-id-1 div.sk-label input.sk-toggleable__control:checked~label.sk-toggleable__label {background-color: #d4ebff;}#sk-container-id-1 input.sk-hidden--visually {border: 0;clip: rect(1px 1px 1px 1px);clip: rect(1px, 1px, 1px, 1px);height: 1px;margin: -1px;overflow: hidden;padding: 0;position: absolute;width: 1px;}#sk-container-id-1 div.sk-estimator {font-family: monospace;background-color: #f0f8ff;border: 1px dotted black;border-radius: 0.25em;box-sizing: border-box;margin-bottom: 0.5em;}#sk-container-id-1 div.sk-estimator:hover {background-color: #d4ebff;}#sk-container-id-1 div.sk-parallel-item::after {content: \"\";width: 100%;border-bottom: 1px solid gray;flex-grow: 1;}#sk-container-id-1 div.sk-label:hover label.sk-toggleable__label {background-color: #d4ebff;}#sk-container-id-1 div.sk-serial::before {content: \"\";position: absolute;border-left: 1px solid gray;box-sizing: border-box;top: 0;bottom: 0;left: 50%;z-index: 0;}#sk-container-id-1 div.sk-serial {display: flex;flex-direction: column;align-items: center;background-color: white;padding-right: 0.2em;padding-left: 0.2em;position: relative;}#sk-container-id-1 div.sk-item {position: relative;z-index: 1;}#sk-container-id-1 div.sk-parallel {display: flex;align-items: stretch;justify-content: center;background-color: white;position: relative;}#sk-container-id-1 div.sk-item::before, #sk-container-id-1 div.sk-parallel-item::before {content: \"\";position: absolute;border-left: 1px solid gray;box-sizing: border-box;top: 0;bottom: 0;left: 50%;z-index: -1;}#sk-container-id-1 div.sk-parallel-item {display: flex;flex-direction: column;z-index: 1;position: relative;background-color: white;}#sk-container-id-1 div.sk-parallel-item:first-child::after {align-self: flex-end;width: 50%;}#sk-container-id-1 div.sk-parallel-item:last-child::after {align-self: flex-start;width: 50%;}#sk-container-id-1 div.sk-parallel-item:only-child::after {width: 0;}#sk-container-id-1 div.sk-dashed-wrapped {border: 1px dashed gray;margin: 0 0.4em 0.5em 0.4em;box-sizing: border-box;padding-bottom: 0.4em;background-color: white;}#sk-container-id-1 div.sk-label label {font-family: monospace;font-weight: bold;display: inline-block;line-height: 1.2em;}#sk-container-id-1 div.sk-label-container {text-align: center;}#sk-container-id-1 div.sk-container {/* jupyter's `normalize.less` sets `[hidden] { display: none; }` but bootstrap.min.css set `[hidden] { display: none !important; }` so we also need the `!important` here to be able to override the default hidden behavior on the sphinx rendered scikit-learn.org. See: https://github.com/scikit-learn/scikit-learn/issues/21755 */display: inline-block !important;position: relative;}#sk-container-id-1 div.sk-text-repr-fallback {display: none;}</style><div id=\"sk-container-id-1\" class=\"sk-top-container\"><div class=\"sk-text-repr-fallback\"><pre>LogisticRegression()</pre><b>In a Jupyter environment, please rerun this cell to show the HTML representation or trust the notebook. <br />On GitHub, the HTML representation is unable to render, please try loading this page with nbviewer.org.</b></div><div class=\"sk-container\" hidden><div class=\"sk-item\"><div class=\"sk-estimator sk-toggleable\"><input class=\"sk-toggleable__control sk-hidden--visually\" id=\"sk-estimator-id-1\" type=\"checkbox\" checked><label for=\"sk-estimator-id-1\" class=\"sk-toggleable__label sk-toggleable__label-arrow\">LogisticRegression</label><div class=\"sk-toggleable__content\"><pre>LogisticRegression()</pre></div></div></div></div></div>"
      ],
      "text/plain": [
       "LogisticRegression()"
      ]
     },
     "execution_count": 13,
     "metadata": {},
     "output_type": "execute_result"
    }
   ],
   "source": [
    "from sklearn.linear_model import LogisticRegression\n",
    "\n",
    "#establashing the classifier\n",
    "classifier = LogisticRegression()\n",
    "\n",
    "#fitting the classifier on the training dataset\n",
    "classifier.fit(X_train, y_train)\n"
   ]
  },
  {
   "cell_type": "code",
   "execution_count": 14,
   "id": "7659a3e8",
   "metadata": {},
   "outputs": [
    {
     "name": "stdout",
     "output_type": "stream",
     "text": [
      "Accuracy on test set: 0.546742209631728\n"
     ]
    }
   ],
   "source": [
    "#evaluating the classifier on the test dataset\n",
    "accuracy = classifier.score(X_test, y_test)\n",
    "print(\"Accuracy on test set:\", accuracy)\n"
   ]
  },
  {
   "cell_type": "code",
   "execution_count": 16,
   "id": "f477fb18",
   "metadata": {},
   "outputs": [],
   "source": [
    "from sklearn.linear_model import LogisticRegression\n",
    "from sklearn.tree import DecisionTreeClassifier\n",
    "from sklearn.metrics import accuracy_score, precision_score, recall_score, f1_score\n",
    "\n"
   ]
  },
  {
   "cell_type": "code",
   "execution_count": 18,
   "id": "cafc415e",
   "metadata": {},
   "outputs": [],
   "source": [
    "classifier1 = LogisticRegression()\n",
    "classifier2 = DecisionTreeClassifier()\n",
    "\n",
    "classifier1.fit(X_train, y_train)\n",
    "classifier2.fit(X_train, y_train)\n",
    "\n",
    "y_pred1 = classifier1.predict(X_test)\n",
    "y_pred2 = classifier2.predict(X_test)\n",
    "\n"
   ]
  },
  {
   "cell_type": "code",
   "execution_count": 19,
   "id": "087f20fb",
   "metadata": {},
   "outputs": [],
   "source": [
    "#calculating evaluation metrics\n",
    "accuracy1 = accuracy_score(y_test, y_pred1)\n",
    "accuracy2 = accuracy_score(y_test, y_pred2)\n",
    "\n",
    "precision1 = precision_score(y_test, y_pred1)\n",
    "precision2 = precision_score(y_test, y_pred2)\n",
    "\n",
    "recall1 = recall_score(y_test, y_pred1)\n",
    "recall2 = recall_score(y_test, y_pred2)\n",
    "\n",
    "f1_score1 = f1_score(y_test, y_pred1)\n",
    "f1_score2 = f1_score(y_test, y_pred2)\n",
    "\n"
   ]
  },
  {
   "cell_type": "code",
   "execution_count": 20,
   "id": "17f894eb",
   "metadata": {},
   "outputs": [
    {
     "name": "stdout",
     "output_type": "stream",
     "text": [
      "Classifier 1:\n",
      "Accuracy: 0.546742209631728\n",
      "Precision: 0.546742209631728\n",
      "Recall: 1.0\n",
      "F1-score: 0.706959706959707\n",
      "\n",
      "Classifier 2:\n",
      "Accuracy: 0.4730878186968839\n",
      "Precision: 0.5177664974619289\n",
      "Recall: 0.5284974093264249\n",
      "F1-score: 0.523076923076923\n"
     ]
    }
   ],
   "source": [
    "print(\"Classifier 1:\")\n",
    "print(\"Accuracy:\", accuracy1)\n",
    "print(\"Precision:\", precision1)\n",
    "print(\"Recall:\", recall1)\n",
    "print(\"F1-score:\", f1_score1)\n",
    "\n",
    "print(\"\\nClassifier 2:\")\n",
    "print(\"Accuracy:\", accuracy2)\n",
    "print(\"Precision:\", precision2)\n",
    "print(\"Recall:\", recall2)\n",
    "print(\"F1-score:\", f1_score2)\n"
   ]
  },
  {
   "cell_type": "markdown",
   "id": "3b9f90f7",
   "metadata": {},
   "source": [
    "### Conclusion "
   ]
  },
  {
   "cell_type": "code",
   "execution_count": null,
   "id": "f34bc367",
   "metadata": {},
   "outputs": [],
   "source": [
    "#Classifier 1 has a higher accuracy (0.547) compared to Classifier 2 (0.473). \n",
    "#This means that Classifier 1 makes more correct predictions overall on the test dataset.\n",
    "\n",
    "#However, Classifier 1 has a lower precision (0.547) compared to Classifier 2 (0.518). \n",
    "#Precision measures the proportion of true positive predictions among all positive predictions. \n",
    "#A higher precision indicates fewer false positives.\n",
    "\n",
    "#Classifier 1 has a perfect recall (1.0), meaning it correctly identifies all positive samples. \n",
    "#On the other hand, Classifier 2 has a lower recall (0.528), indicating that it misses some positive samples.\n",
    "\n",
    "#The F1-score, which considers both precision and recall, is higher for Classifier 1 (0.707) compared to Classifier 2 (0.523). \n",
    "#This suggests that Classifier 1 achieves a better balance between precision and recall.\n",
    "\n",
    "#In conclusion, while Classifier 1 has a higher accuracy and F1-score, indicating overall better performance,\n",
    "#it also has a lower precision compared to Classifier 2. "
   ]
  }
 ],
 "metadata": {
  "kernelspec": {
   "display_name": "Python 3 (ipykernel)",
   "language": "python",
   "name": "python3"
  },
  "language_info": {
   "codemirror_mode": {
    "name": "ipython",
    "version": 3
   },
   "file_extension": ".py",
   "mimetype": "text/x-python",
   "name": "python",
   "nbconvert_exporter": "python",
   "pygments_lexer": "ipython3",
   "version": "3.11.4"
  }
 },
 "nbformat": 4,
 "nbformat_minor": 5
}
